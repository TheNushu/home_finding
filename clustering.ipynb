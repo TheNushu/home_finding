{
 "cells": [
  {
   "cell_type": "code",
   "execution_count": 166,
   "metadata": {},
   "outputs": [
    {
     "name": "stdout",
     "output_type": "stream",
     "text": [
      "(5766, 319)\n"
     ]
    }
   ],
   "source": [
    "import pandas as pd\n",
    "\n",
    "data = pd.read_csv('PSCompPars_2024.10.10_01.06.24.csv', comment='#')\n",
    "\n",
    "print(data.shape)"
   ]
  },
  {
   "cell_type": "code",
   "execution_count": 167,
   "metadata": {},
   "outputs": [
    {
     "name": "stdout",
     "output_type": "stream",
     "text": [
      "   pl_rade   pl_bmasse  pl_dens   pl_orbper  pl_orbsmax  pl_eqt  pl_insol  \\\n",
      "0     12.2  4914.89849    14.90   323.21000       1.178     NaN       NaN   \n",
      "1     12.3  4684.81420    13.80   516.21997       1.530     NaN       NaN   \n",
      "2     13.1  1131.15130     2.76   186.76000       0.775     NaN       NaN   \n",
      "3     12.6  2559.47216     7.03  1765.03890       2.774     NaN       NaN   \n",
      "4     13.5   565.73740     1.26   798.50000       1.660     NaN       NaN   \n",
      "\n",
      "   st_teff  st_rad  st_mass  st_met st_spectype  st_age  sy_snum  sy_pnum  \\\n",
      "0   4874.0   13.76     2.09  -0.260      G8 III     NaN        2        1   \n",
      "1   4213.0   29.79     2.78  -0.020      K4 III    1.56        1        1   \n",
      "2   4888.0   11.55     1.78  -0.210      K0 III    4.50        1        1   \n",
      "3   5338.0    0.93     0.91   0.405        K0 V    3.90        1        2   \n",
      "4   5750.0    1.13     1.08   0.060        G3 V    7.40        3        1   \n",
      "\n",
      "    sy_dist  \n",
      "0   93.1846  \n",
      "1  125.3210  \n",
      "2   75.4392  \n",
      "3   17.9323  \n",
      "4   21.1397  \n"
     ]
    }
   ],
   "source": [
    "columns = ['pl_rade', 'pl_bmasse', 'pl_dens', 'pl_orbper', 'pl_orbsmax', 'pl_eqt', 'pl_insol', # characteristics of the planet\n",
    "           'st_teff', 'st_rad', 'st_mass', 'st_met', 'st_spectype', 'st_age', # characteristics of the host tar\n",
    "           'sy_snum', 'sy_pnum', 'sy_dist'] # characteristics of the solar system\n",
    "\n",
    "data_filtered = data[columns]\n",
    "\n",
    "print(data_filtered.head())"
   ]
  },
  {
   "cell_type": "code",
   "execution_count": 168,
   "metadata": {},
   "outputs": [
    {
     "name": "stdout",
     "output_type": "stream",
     "text": [
      "pl_rade: 26\n",
      "pl_bmasse: 28\n",
      "pl_dens: 110\n",
      "pl_orbper: 279\n",
      "pl_orbsmax: 285\n",
      "pl_eqt: 1486\n",
      "pl_insol: 1743\n",
      "st_teff: 254\n",
      "st_rad: 278\n",
      "st_mass: 24\n",
      "st_met: 489\n",
      "st_spectype: 3712\n",
      "st_age: 1251\n",
      "sy_snum: 0\n",
      "sy_pnum: 0\n",
      "sy_dist: 44\n"
     ]
    }
   ],
   "source": [
    "for col in data_filtered.columns:\n",
    "    print(f'{col}: {data_filtered[col].isnull().sum()}')"
   ]
  },
  {
   "cell_type": "code",
   "execution_count": 169,
   "metadata": {},
   "outputs": [
    {
     "name": "stdout",
     "output_type": "stream",
     "text": [
      "(4890, 12)\n"
     ]
    }
   ],
   "source": [
    "data_filtered = data_filtered.drop(columns=['pl_insol', 'pl_eqt', 'st_spectype', 'st_age'])\n",
    "\n",
    "data_filtered = data_filtered.dropna()\n",
    "\n",
    "print(data_filtered.shape)"
   ]
  },
  {
   "cell_type": "code",
   "execution_count": 170,
   "metadata": {},
   "outputs": [
    {
     "name": "stdout",
     "output_type": "stream",
     "text": [
      "   pl_rade   pl_bmasse  pl_dens   pl_orbper  pl_orbsmax  st_teff  st_rad  \\\n",
      "0     12.2  4914.89849    14.90   323.21000       1.178   4874.0   13.76   \n",
      "1     12.3  4684.81420    13.80   516.21997       1.530   4213.0   29.79   \n",
      "2     13.1  1131.15130     2.76   186.76000       0.775   4888.0   11.55   \n",
      "3     12.6  2559.47216     7.03  1765.03890       2.774   5338.0    0.93   \n",
      "4     13.5   565.73740     1.26   798.50000       1.660   5750.0    1.13   \n",
      "\n",
      "   st_mass  st_met  sy_snum  sy_pnum   sy_dist  \n",
      "0     2.09  -0.260        2        1   93.1846  \n",
      "1     2.78  -0.020        1        1  125.3210  \n",
      "2     1.78  -0.210        1        1   75.4392  \n",
      "3     0.91   0.405        1        2   17.9323  \n",
      "4     1.08   0.060        3        1   21.1397  \n"
     ]
    }
   ],
   "source": [
    "print(data_filtered.head())"
   ]
  },
  {
   "cell_type": "code",
   "execution_count": 171,
   "metadata": {},
   "outputs": [
    {
     "name": "stdout",
     "output_type": "stream",
     "text": [
      "Silhouette Coefficient: 0.14\n"
     ]
    },
    {
     "data": {
      "image/png": "[encoded data removed]",
      "text/plain": [
       "<Figure size 800x600 with 1 Axes>"
      ]
     },
     "metadata": {},
     "output_type": "display_data"
    }
   ],
   "source": [
    "from sklearn.preprocessing import StandardScaler\n",
    "from sklearn.cluster import KMeans\n",
    "from sklearn.decomposition import PCA\n",
    "from sklearn.metrics import silhouette_score\n",
    "import matplotlib.pyplot as plt\n",
    "\n",
    "scaler = StandardScaler()\n",
    "data_scaled = scaler.fit_transform(data_filtered)\n",
    "\n",
    "kmeans = KMeans(n_clusters=2, random_state=42)\n",
    "data_filtered['cluster'] = kmeans.fit_predict(data_scaled)\n",
    "\n",
    "silhouette_avg = silhouette_score(data_scaled, data_filtered['cluster'])\n",
    "print(f'Silhouette Coefficient: {silhouette_avg:.2f}')\n",
    "\n",
    "pca = PCA(n_components=2)\n",
    "pca_components = pca.fit_transform(data_scaled)\n",
    "data_filtered['pca_1'] = pca_components[:, 0]\n",
    "data_filtered['pca_2'] = pca_components[:, 1]\n",
    "\n",
    "plt.figure(figsize=(8,6))\n",
    "plt.scatter(data_filtered['pca_1'], data_filtered['pca_2'], c=data_filtered['cluster'], cmap='viridis', s=100)\n",
    "plt.xlabel('PCA Component 1')\n",
    "plt.ylabel('PCA Component 2')\n",
    "plt.title('Clustering of Planets')\n",
    "plt.show()"
   ]
  },
  {
   "cell_type": "markdown",
   "metadata": {},
   "source": [
    "Deleting the outlier..."
   ]
  },
  {
   "cell_type": "code",
   "execution_count": 172,
   "metadata": {},
   "outputs": [
    {
     "data": {
      "image/png": "[encoded data removed]",
      "text/plain": [
       "<Figure size 800x600 with 1 Axes>"
      ]
     },
     "metadata": {},
     "output_type": "display_data"
    }
   ],
   "source": [
    "data_filtered = data_filtered[data_filtered['pca_2'] < 20]\n",
    "\n",
    "plt.figure(figsize=(8,6))\n",
    "plt.scatter(data_filtered['pca_1'], data_filtered['pca_2'], c=data_filtered['cluster'], cmap='viridis', s=100)\n",
    "plt.xlabel('PCA Component 1')\n",
    "plt.ylabel('PCA Component 2')\n",
    "plt.title('Clustering of Planets')\n",
    "plt.show()"
   ]
  },
  {
   "cell_type": "code",
   "execution_count": 173,
   "metadata": {},
   "outputs": [],
   "source": [
    "hwc = pd.read_csv('hwc_table_all.csv')\n",
    "nasa = pd.read_csv('PSCompPars_2024.10.10_01.06.24.csv', comment='#')\n",
    "\n",
    "habitables = nasa[nasa['pl_name'].isin(hwc['Name'])]\n",
    "\n",
    "habitables.to_csv('habitables.csv', index=False)"
   ]
  },
  {
   "cell_type": "code",
   "execution_count": 174,
   "metadata": {},
   "outputs": [],
   "source": [
    "cluster0 = data_filtered[data_filtered['cluster'] == 0].drop(columns=['pca_1', 'pca_2', 'cluster'])\n",
    "cluster1 = data_filtered[data_filtered['cluster'] == 1].drop(columns=['pca_1', 'pca_2', 'cluster'])"
   ]
  },
  {
   "cell_type": "code",
   "execution_count": 175,
   "metadata": {},
   "outputs": [],
   "source": [
    "habitables_filtered = habitables[columns].drop(columns=['pl_insol', 'pl_eqt', 'st_spectype', 'st_age'])"
   ]
  },
  {
   "cell_type": "code",
   "execution_count": 176,
   "metadata": {},
   "outputs": [
    {
     "name": "stdout",
     "output_type": "stream",
     "text": [
      "(2168, 12)\n",
      "(2721, 12)\n",
      "(70, 12)\n"
     ]
    }
   ],
   "source": [
    "print(cluster0.shape)\n",
    "print(cluster1.shape)\n",
    "print(habitables_filtered.shape)"
   ]
  },
  {
   "cell_type": "code",
   "execution_count": 177,
   "metadata": {},
   "outputs": [
    {
     "name": "stdout",
     "output_type": "stream",
     "text": [
      "Distance Cluster 0: 1210.4863658079707\n",
      "Distance Cluster 1: 2269.6177351463302\n"
     ]
    }
   ],
   "source": [
    "from scipy.spatial.distance import euclidean\n",
    "\n",
    "mean0 = cluster0.mean()\n",
    "mean1 = cluster1.mean()\n",
    "habitables_mean = habitables_filtered.mean()\n",
    "\n",
    "distance0 = euclidean(mean0, habitables_mean)\n",
    "distance1 = euclidean(mean1, habitables_mean)\n",
    "\n",
    "print(f\"Distance Cluster 0: {distance0}\")\n",
    "print(f\"Distance Cluster 1: {distance1}\")"
   ]
  },
  {
   "cell_type": "markdown",
   "metadata": {},
   "source": [
    "Cluster 0 will be the \"habitable\" planets"
   ]
  },
  {
   "cell_type": "code",
   "execution_count": 178,
   "metadata": {},
   "outputs": [],
   "source": [
    "import numpy as np\n",
    "\n",
    "def compute_esi(exoplanet_data):\n",
    "    # Earth reference values (normalized to 1)\n",
    "    earth_values = {\n",
    "        'temperature': 288,  # in Kelvin\n",
    "        'radius': 1,      # in 6371km, 1 eart radius\n",
    "        'density': 5.51,     # in g/cm^3\n",
    "        'mass': 1,           # in Earth masses\n",
    "        'orbital_period': 365.25  # in days\n",
    "    }\n",
    "    # add columns\n",
    "\n",
    "    score = 0\n",
    "    count = 0\n",
    "\n",
    "    # Radius\n",
    "    if not np.isnan(exoplanet_data['pl_rade']):\n",
    "        score += np.exp(-abs(exoplanet_data['pl_rade'] - earth_values['radius']) / earth_values['radius'])\n",
    "        count += 1\n",
    "\n",
    "    # Density\n",
    "    if not np.isnan(exoplanet_data['pl_dens']):\n",
    "        score += np.exp(-abs(exoplanet_data['pl_dens'] - earth_values['density']) / earth_values['density'])\n",
    "        count += 1\n",
    "\n",
    "    # Orbital Period\n",
    "    if not np.isnan(exoplanet_data['pl_orbper']):\n",
    "        score += np.exp(-abs(exoplanet_data['pl_orbper'] - earth_values['orbital_period']) / earth_values['orbital_period'])\n",
    "        count += 1\n",
    "    \n",
    "    # Return the average score, normalized to the number of available parameters\n",
    "    if count > 0:\n",
    "        return score / count\n",
    "    else:\n",
    "        return np.nan  # If no parameters are available\n",
    "\n",
    "cluster0['esi'] = cluster0.apply(compute_esi, axis=1)\n",
    "cluster1['esi'] = cluster1.apply(compute_esi, axis=1)"
   ]
  },
  {
   "cell_type": "code",
   "execution_count": 179,
   "metadata": {},
   "outputs": [
    {
     "data": {
      "text/html": [
       "<div>\n",
       "<style scoped>\n",
       "    .dataframe tbody tr th:only-of-type {\n",
       "        vertical-align: middle;\n",
       "    }\n",
       "\n",
       "    .dataframe tbody tr th {\n",
       "        vertical-align: top;\n",
       "    }\n",
       "\n",
       "    .dataframe thead th {\n",
       "        text-align: right;\n",
       "    }\n",
       "</style>\n",
       "<table border=\"1\" class=\"dataframe\">\n",
       "  <thead>\n",
       "    <tr style=\"text-align: right;\">\n",
       "      <th></th>\n",
       "      <th>pl_rade</th>\n",
       "      <th>pl_bmasse</th>\n",
       "      <th>pl_dens</th>\n",
       "      <th>pl_orbper</th>\n",
       "      <th>pl_orbsmax</th>\n",
       "      <th>st_teff</th>\n",
       "      <th>st_rad</th>\n",
       "      <th>st_mass</th>\n",
       "      <th>st_met</th>\n",
       "      <th>sy_snum</th>\n",
       "      <th>sy_pnum</th>\n",
       "      <th>sy_dist</th>\n",
       "      <th>esi</th>\n",
       "    </tr>\n",
       "  </thead>\n",
       "  <tbody>\n",
       "    <tr>\n",
       "      <th>2834</th>\n",
       "      <td>1.08</td>\n",
       "      <td>1.28000</td>\n",
       "      <td>5.580</td>\n",
       "      <td>85.756550</td>\n",
       "      <td>0.3912</td>\n",
       "      <td>5280.00</td>\n",
       "      <td>0.82</td>\n",
       "      <td>0.86</td>\n",
       "      <td>-0.010</td>\n",
       "      <td>1</td>\n",
       "      <td>1</td>\n",
       "      <td>546.23000</td>\n",
       "      <td>0.791909</td>\n",
       "    </tr>\n",
       "    <tr>\n",
       "      <th>2664</th>\n",
       "      <td>1.01</td>\n",
       "      <td>1.01000</td>\n",
       "      <td>5.390</td>\n",
       "      <td>12.253832</td>\n",
       "      <td>0.1016</td>\n",
       "      <td>5381.00</td>\n",
       "      <td>0.84</td>\n",
       "      <td>0.88</td>\n",
       "      <td>-0.040</td>\n",
       "      <td>1</td>\n",
       "      <td>1</td>\n",
       "      <td>567.55600</td>\n",
       "      <td>0.782979</td>\n",
       "    </tr>\n",
       "    <tr>\n",
       "      <th>3914</th>\n",
       "      <td>1.01</td>\n",
       "      <td>1.01000</td>\n",
       "      <td>5.390</td>\n",
       "      <td>11.419412</td>\n",
       "      <td>0.0870</td>\n",
       "      <td>4493.00</td>\n",
       "      <td>0.61</td>\n",
       "      <td>0.65</td>\n",
       "      <td>0.053</td>\n",
       "      <td>1</td>\n",
       "      <td>3</td>\n",
       "      <td>177.35500</td>\n",
       "      <td>0.782690</td>\n",
       "    </tr>\n",
       "    <tr>\n",
       "      <th>5492</th>\n",
       "      <td>1.02</td>\n",
       "      <td>1.05000</td>\n",
       "      <td>5.440</td>\n",
       "      <td>11.416000</td>\n",
       "      <td>0.0455</td>\n",
       "      <td>3034.00</td>\n",
       "      <td>0.12</td>\n",
       "      <td>0.10</td>\n",
       "      <td>-0.110</td>\n",
       "      <td>1</td>\n",
       "      <td>3</td>\n",
       "      <td>3.83078</td>\n",
       "      <td>0.782378</td>\n",
       "    </tr>\n",
       "    <tr>\n",
       "      <th>3597</th>\n",
       "      <td>1.01</td>\n",
       "      <td>1.01000</td>\n",
       "      <td>5.390</td>\n",
       "      <td>9.220524</td>\n",
       "      <td>0.0820</td>\n",
       "      <td>5602.00</td>\n",
       "      <td>0.90</td>\n",
       "      <td>0.79</td>\n",
       "      <td>-0.250</td>\n",
       "      <td>1</td>\n",
       "      <td>4</td>\n",
       "      <td>1337.61000</td>\n",
       "      <td>0.781930</td>\n",
       "    </tr>\n",
       "    <tr>\n",
       "      <th>...</th>\n",
       "      <td>...</td>\n",
       "      <td>...</td>\n",
       "      <td>...</td>\n",
       "      <td>...</td>\n",
       "      <td>...</td>\n",
       "      <td>...</td>\n",
       "      <td>...</td>\n",
       "      <td>...</td>\n",
       "      <td>...</td>\n",
       "      <td>...</td>\n",
       "      <td>...</td>\n",
       "      <td>...</td>\n",
       "      <td>...</td>\n",
       "    </tr>\n",
       "    <tr>\n",
       "      <th>1038</th>\n",
       "      <td>13.60</td>\n",
       "      <td>120.60000</td>\n",
       "      <td>0.263</td>\n",
       "      <td>5700.000000</td>\n",
       "      <td>6.3600</td>\n",
       "      <td>5836.00</td>\n",
       "      <td>1.38</td>\n",
       "      <td>1.07</td>\n",
       "      <td>0.140</td>\n",
       "      <td>1</td>\n",
       "      <td>6</td>\n",
       "      <td>46.09070</td>\n",
       "      <td>0.128623</td>\n",
       "    </tr>\n",
       "    <tr>\n",
       "      <th>615</th>\n",
       "      <td>14.30</td>\n",
       "      <td>133.48860</td>\n",
       "      <td>0.251</td>\n",
       "      <td>3568.000000</td>\n",
       "      <td>4.4900</td>\n",
       "      <td>5799.00</td>\n",
       "      <td>0.96</td>\n",
       "      <td>0.95</td>\n",
       "      <td>-0.306</td>\n",
       "      <td>2</td>\n",
       "      <td>3</td>\n",
       "      <td>51.47360</td>\n",
       "      <td>0.128394</td>\n",
       "    </tr>\n",
       "    <tr>\n",
       "      <th>212</th>\n",
       "      <td>12.30</td>\n",
       "      <td>4069.15709</td>\n",
       "      <td>12.000</td>\n",
       "      <td>25533.113530</td>\n",
       "      <td>16.7610</td>\n",
       "      <td>5485.00</td>\n",
       "      <td>2.24</td>\n",
       "      <td>0.96</td>\n",
       "      <td>-0.400</td>\n",
       "      <td>1</td>\n",
       "      <td>2</td>\n",
       "      <td>37.07880</td>\n",
       "      <td>0.102650</td>\n",
       "    </tr>\n",
       "    <tr>\n",
       "      <th>287</th>\n",
       "      <td>12.30</td>\n",
       "      <td>4288.14087</td>\n",
       "      <td>12.700</td>\n",
       "      <td>13921.423020</td>\n",
       "      <td>9.7260</td>\n",
       "      <td>4006.03</td>\n",
       "      <td>0.65</td>\n",
       "      <td>0.63</td>\n",
       "      <td>0.230</td>\n",
       "      <td>2</td>\n",
       "      <td>4</td>\n",
       "      <td>16.02720</td>\n",
       "      <td>0.090404</td>\n",
       "    </tr>\n",
       "    <tr>\n",
       "      <th>551</th>\n",
       "      <td>12.20</td>\n",
       "      <td>5740.93452</td>\n",
       "      <td>17.400</td>\n",
       "      <td>26472.446230</td>\n",
       "      <td>17.2500</td>\n",
       "      <td>5494.00</td>\n",
       "      <td>0.90</td>\n",
       "      <td>0.96</td>\n",
       "      <td>-0.360</td>\n",
       "      <td>1</td>\n",
       "      <td>2</td>\n",
       "      <td>28.95710</td>\n",
       "      <td>0.038527</td>\n",
       "    </tr>\n",
       "  </tbody>\n",
       "</table>\n",
       "<p>2168 rows × 13 columns</p>\n",
       "</div>"
      ],
      "text/plain": [
       "      pl_rade   pl_bmasse  pl_dens     pl_orbper  pl_orbsmax  st_teff  st_rad  \\\n",
       "2834     1.08     1.28000    5.580     85.756550      0.3912  5280.00    0.82   \n",
       "2664     1.01     1.01000    5.390     12.253832      0.1016  5381.00    0.84   \n",
       "3914     1.01     1.01000    5.390     11.419412      0.0870  4493.00    0.61   \n",
       "5492     1.02     1.05000    5.440     11.416000      0.0455  3034.00    0.12   \n",
       "3597     1.01     1.01000    5.390      9.220524      0.0820  5602.00    0.90   \n",
       "...       ...         ...      ...           ...         ...      ...     ...   \n",
       "1038    13.60   120.60000    0.263   5700.000000      6.3600  5836.00    1.38   \n",
       "615     14.30   133.48860    0.251   3568.000000      4.4900  5799.00    0.96   \n",
       "212     12.30  4069.15709   12.000  25533.113530     16.7610  5485.00    2.24   \n",
       "287     12.30  4288.14087   12.700  13921.423020      9.7260  4006.03    0.65   \n",
       "551     12.20  5740.93452   17.400  26472.446230     17.2500  5494.00    0.90   \n",
       "\n",
       "      st_mass  st_met  sy_snum  sy_pnum     sy_dist       esi  \n",
       "2834     0.86  -0.010        1        1   546.23000  0.791909  \n",
       "2664     0.88  -0.040        1        1   567.55600  0.782979  \n",
       "3914     0.65   0.053        1        3   177.35500  0.782690  \n",
       "5492     0.10  -0.110        1        3     3.83078  0.782378  \n",
       "3597     0.79  -0.250        1        4  1337.61000  0.781930  \n",
       "...       ...     ...      ...      ...         ...       ...  \n",
       "1038     1.07   0.140        1        6    46.09070  0.128623  \n",
       "615      0.95  -0.306        2        3    51.47360  0.128394  \n",
       "212      0.96  -0.400        1        2    37.07880  0.102650  \n",
       "287      0.63   0.230        2        4    16.02720  0.090404  \n",
       "551      0.96  -0.360        1        2    28.95710  0.038527  \n",
       "\n",
       "[2168 rows x 13 columns]"
      ]
     },
     "execution_count": 179,
     "metadata": {},
     "output_type": "execute_result"
    }
   ],
   "source": [
    "cluster0.sort_values(by='esi', ascending=False)"
   ]
  },
  {
   "cell_type": "code",
   "execution_count": 180,
   "metadata": {},
   "outputs": [
    {
     "data": {
      "text/plain": [
       "count    2168.000000\n",
       "mean        0.483754\n",
       "std         0.152598\n",
       "min         0.038527\n",
       "25%         0.368674\n",
       "50%         0.450274\n",
       "75%         0.614659\n",
       "max         0.791909\n",
       "Name: esi, dtype: float64"
      ]
     },
     "execution_count": 180,
     "metadata": {},
     "output_type": "execute_result"
    }
   ],
   "source": [
    "cluster0['esi'].describe()"
   ]
  },
  {
   "cell_type": "code",
   "execution_count": 181,
   "metadata": {},
   "outputs": [
    {
     "name": "stdout",
     "output_type": "stream",
     "text": [
      "p_habitable\n",
      "1    2087\n",
      "2      81\n",
      "Name: count, dtype: int64\n"
     ]
    }
   ],
   "source": [
    "cluster0['p_habitable'] = cluster0['esi'].apply(lambda x: 2 if x > 0.75 else 1)\n",
    "print(cluster0['p_habitable'].value_counts())"
   ]
  },
  {
   "cell_type": "code",
   "execution_count": 182,
   "metadata": {},
   "outputs": [],
   "source": [
    "cluster1['p_habitable'] = 0\n",
    "cluster1 = cluster1.join(nasa['pl_name'])\n",
    "\n",
    "cluster0 = cluster0.join(nasa['pl_name'])"
   ]
  },
  {
   "cell_type": "code",
   "execution_count": 184,
   "metadata": {},
   "outputs": [
    {
     "name": "stdout",
     "output_type": "stream",
     "text": [
      "   pl_rade   pl_bmasse  pl_dens    pl_orbper  pl_orbsmax  st_teff  st_rad  \\\n",
      "0   13.900   280.64248    0.574    30.330000     0.19400   4816.0   12.19   \n",
      "1   13.900   263.97850    0.540    14.651600     0.11340   5172.0    0.94   \n",
      "2    8.510    54.47380    0.486    44.398900     0.23730   5172.0    0.94   \n",
      "3   13.000  1232.49300    3.080  5574.200000     5.95700   5172.0    0.94   \n",
      "4    1.875     7.99000    6.660     0.736547     0.01544   5172.0    0.94   \n",
      "\n",
      "   st_mass  st_met  sy_snum  sy_pnum  sy_dist       esi  p_habitable   pl_name  \n",
      "0     1.05   -0.78        1        1  95.9863  0.269335            1  24 Boo b  \n",
      "1     0.91    0.35        2        5  12.5855  0.262899            1  55 Cnc b  \n",
      "2     0.91    0.35        2        5  12.5855  0.272593            1  55 Cnc c  \n",
      "3     0.91    0.35        2        5  12.5855  0.214463            1  55 Cnc d  \n",
      "4     0.91    0.35        2        5  12.5855  0.532371            1  55 Cnc e  \n",
      "(4889, 15)\n"
     ]
    }
   ],
   "source": [
    "exoplanets = pd.concat([cluster0, cluster1], ignore_index=True)\n",
    "print(exoplanets.head())\n",
    "print(exoplanets.shape)"
   ]
  },
  {
   "cell_type": "code",
   "execution_count": 185,
   "metadata": {},
   "outputs": [],
   "source": [
    "exoplanets.to_csv('exoplanets.csv')"
   ]
  }
 ],
 "metadata": {
  "kernelspec": {
   "display_name": "Python 3",
   "language": "python",
   "name": "python3"
  },
  "language_info": {
   "codemirror_mode": {
    "name": "ipython",
    "version": 3
   },
   "file_extension": ".py",
   "mimetype": "text/x-python",
   "name": "python",
   "nbconvert_exporter": "python",
   "pygments_lexer": "ipython3",
   "version": "3.10.0"
  }
 },
 "nbformat": 4,
 "nbformat_minor": 2
}
